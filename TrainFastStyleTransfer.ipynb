{
  "nbformat": 4,
  "nbformat_minor": 0,
  "metadata": {
    "colab": {
      "name": "TrainFastStyleTransfer.ipynb",
      "version": "0.3.2",
      "provenance": [],
      "collapsed_sections": [],
      "toc_visible": true,
      "include_colab_link": true
    },
    "kernelspec": {
      "name": "python3",
      "display_name": "Python 3"
    },
    "accelerator": "GPU"
  },
  "cells": [
    {
      "cell_type": "markdown",
      "metadata": {
        "id": "view-in-github",
        "colab_type": "text"
      },
      "source": [
        "<a href=\"https://colab.research.google.com/github/carlosdg/TrainStyleTransfer/blob/master/TrainFastStyleTransfer.ipynb\" target=\"_parent\"><img src=\"https://colab.research.google.com/assets/colab-badge.svg\" alt=\"Open In Colab\"/></a>"
      ]
    },
    {
      "metadata": {
        "id": "jf4cIi4Ei0Un",
        "colab_type": "text"
      },
      "cell_type": "markdown",
      "source": [
        "# Training Fast Style Transfer for a ml5js model\n",
        "\n",
        "We are just following the guide in the [_training-styletransfer_ repository of ml5](https://github.com/ml5js/training-styletransfer) but in google colab. This was done in January 25, 2019. We say this because time goes on and you may find some differences due to different versions. At this time the repository has 16 commits and we used the model successfully on ml5js version 0.1.1\n",
        "\n",
        "__The first step is very important: we need to set the environment to use the GPU__. Go to the `Runtime` tab (up in the window, below the notebook name), choose `Change runtime type`, select `GPU` and click `Save`.\n",
        "\n",
        "Now that we are ready to use the GPU we clone the repository"
      ]
    },
    {
      "metadata": {
        "id": "DdwxMbTF36Mr",
        "colab_type": "code",
        "colab": {}
      },
      "cell_type": "code",
      "source": [
        "!git clone https://github.com/ml5js/training_styletransfer.git"
      ],
      "execution_count": 0,
      "outputs": []
    },
    {
      "metadata": {
        "id": "7jjshJKwjinI",
        "colab_type": "text"
      },
      "cell_type": "markdown",
      "source": [
        "## 2. Download & unzip the COCO dataset\n",
        "\n",
        "Now we download the dataset of images that will be used in training. Note that this will take a long time.\n",
        "\n",
        "In the guide we are told to execute `bash setup.sh` but the unzip command is verbose and annoying (for us at least), so the following commands are the same ones in `setup.sh` but with a quiet unzip (note the `-qq` option) and without the `mkdir` because the repository already have the folders created"
      ]
    },
    {
      "metadata": {
        "id": "05O8OzM54XtI",
        "colab_type": "code",
        "colab": {}
      },
      "cell_type": "code",
      "source": [
        "!cd training_styletransfer/data && \\\n",
        "wget http://www.vlfeat.org/matconvnet/models/beta16/imagenet-vgg-verydeep-19.mat && \\\n",
        "wget http://msvocds.blob.core.windows.net/coco2014/train2014.zip && \\\n",
        "unzip -qq train2014.zip"
      ],
      "execution_count": 0,
      "outputs": []
    },
    {
      "metadata": {
        "id": "MgimKDheo8yF",
        "colab_type": "text"
      },
      "cell_type": "markdown",
      "source": [
        "## 3. Install the required python dependencies\n",
        "\n",
        "It will ouput a long text with warnings because packages already installed will be broken due to changing some of its dependencies versions but we only need the ones specified in `requirements.txt` so I think that its ok."
      ]
    },
    {
      "metadata": {
        "id": "c9aDfyRU4diI",
        "colab_type": "code",
        "colab": {}
      },
      "cell_type": "code",
      "source": [
        "!cd training_styletransfer && pip install -r requirements.txt"
      ],
      "execution_count": 0,
      "outputs": []
    },
    {
      "metadata": {
        "id": "3PCpiZe-p0C8",
        "colab_type": "text"
      },
      "cell_type": "markdown",
      "source": [
        "## 4. Upload the style image\n",
        "\n",
        "Go to the left pane in here. If it is not already open you should see something like an arrow pointing towards the notebook, click there to open the pane.\n",
        "\n",
        "Once open you should see a `Files` tab. Then you can see the tree directory of the virtual machine. You can also see an `Upload` option, click there and upload your style image."
      ]
    },
    {
      "metadata": {
        "id": "p-f9mzALpKUv",
        "colab_type": "text"
      },
      "cell_type": "markdown",
      "source": [
        "## 5. Run the training script\n",
        "\n",
        "Here you have to __change `YOURIMAGE.jpg` with the style image name that you uploaded__ to colab.\n",
        "\n",
        "Note that this will take a long time, about 6 to 8 hours. Make sure to come back every now and then to check that virtual machine is still running.\n",
        "\n",
        "We have successfully trained 4 models and with all the available GPU memory for this process we had no problem 👍. But keep in mind that the virtual machines are recycled after 12 hours. So, in our case, after we trained a style we waited for the next day to train another one."
      ]
    },
    {
      "metadata": {
        "id": "5ypMMcwQ5URC",
        "colab_type": "code",
        "colab": {}
      },
      "cell_type": "code",
      "source": [
        "!cd training_styletransfer && \\\n",
        "python style.py --style ../YOURIMAGE.jpg \\\n",
        "  --checkpoint-dir checkpoints/ \\\n",
        "  --model-dir models/ \\\n",
        "  --test images/violetaparra.jpg \\\n",
        "  --test-dir tests/ \\\n",
        "  --content-weight 1.5e1 \\\n",
        "  --checkpoint-iterations 1000 \\\n",
        "  --batch-size 20"
      ],
      "execution_count": 0,
      "outputs": []
    },
    {
      "metadata": {
        "id": "EaP1Y0dvpf8K",
        "colab_type": "text"
      },
      "cell_type": "markdown",
      "source": [
        "## 6. Zip & Download the model\n",
        "\n",
        "Here we make a zip with the model so we can go to the left pane, and in the `files` tab right click `result.zip` and download it. If you don't see `result.zip` try clicking on the `Update` button next to `Upload` to refresh the `Files` tab"
      ]
    },
    {
      "metadata": {
        "id": "ZbdyBCUmaPH2",
        "colab_type": "code",
        "colab": {}
      },
      "cell_type": "code",
      "source": [
        "!zip -r result.zip training_styletransfer/models"
      ],
      "execution_count": 0,
      "outputs": []
    }
  ]
}